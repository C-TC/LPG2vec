{
 "cells": [
  {
   "cell_type": "code",
   "execution_count": 111,
   "id": "45a5aa9f",
   "metadata": {},
   "outputs": [],
   "source": [
    "import numpy as np\n",
    "import pandas as pd\n",
    "import torch\n",
    "import re\n",
    "from sentence_transformers import SentenceTransformer"
   ]
  },
  {
   "cell_type": "code",
   "execution_count": 112,
   "id": "0550ee2e",
   "metadata": {},
   "outputs": [
    {
     "data": {
      "text/plain": [
       "0        [, USA, ]\n",
       "1              NaN\n",
       "2              NaN\n",
       "3              NaN\n",
       "4              NaN\n",
       "           ...    \n",
       "28858          NaN\n",
       "28859          NaN\n",
       "28860          NaN\n",
       "28861          NaN\n",
       "28862          NaN\n",
       "Name: countries, Length: 28863, dtype: object"
      ]
     },
     "execution_count": 112,
     "metadata": {},
     "output_type": "execute_result"
    }
   ],
   "source": [
    "data_path = './datasets/recommendation.csv'\n",
    "raw_data = pd.read_csv(data_path,low_memory=False)\n",
    "vertex_data = raw_data[raw_data[\"_start\"].isna()].dropna(axis=1,how=\"all\")\n",
    "edge_data = raw_data[raw_data[\"_start\"].notna()].dropna(axis=1,how=\"all\")\n",
    "vertex_data[\"countries\"].str.split(r'\\W+')"
   ]
  },
  {
   "cell_type": "code",
   "execution_count": 161,
   "id": "42ec390c",
   "metadata": {},
   "outputs": [],
   "source": [
    "from enum import Enum\n",
    "class ColType(Enum):\n",
    "    NUMERICAL=0\n",
    "    LARGE_NUMBER=1\n",
    "    NUMBER_TO_BIN=2\n",
    "    INDEX=3\n",
    "    CATEGORY=4\n",
    "    STRING=5\n",
    "    \n",
    "class StringEncoder(object):\n",
    "    def __init__(self, model_name='all-MiniLM-L6-v2', device=None):\n",
    "        self.device = device\n",
    "        self.model = SentenceTransformer(model_name, device=device)\n",
    "\n",
    "    @torch.no_grad()\n",
    "    def __call__(self, df):\n",
    "        x = self.model.encode(df.dropna().values, show_progress_bar=True,\n",
    "                              convert_to_tensor=True, device=self.device)\n",
    "        x = x.cpu()\n",
    "        res = torch.zeros(len(df),x.size(dim=1))\n",
    "        res[df.notnull().values,:] = x\n",
    "        return x\n",
    "\n",
    "class NumericalEncoder(object):\n",
    "    def __init__(self):\n",
    "        return\n",
    "\n",
    "    def __call__(self, df,na_val=0):\n",
    "        x = torch.tensor(df.fillna(value=na_val).values)\n",
    "        return x\n",
    "\n",
    "class LargeNumberEncoder(object):\n",
    "    def __init__(self):\n",
    "        return\n",
    "\n",
    "    def __call__(self, df, na_val=0):\n",
    "        x = torch.tensor(df.fillna(value=na_val).values)\n",
    "        x = (x - torch.min(x)) / (torch.max(x) - torch.min(x))\n",
    "        return x\n",
    "\n",
    "class BinEncoder(object):\n",
    "    def __init__(self):\n",
    "        return\n",
    "\n",
    "    def __call__(self, df, num_bins = 10):\n",
    "        cut = pd.qcut(df, num_bins)\n",
    "        genres = set(genre for genre in cut.values) \n",
    "        # keep NaN as a bin\n",
    "        genres_mapping = {genre: i for i, genre in enumerate(genres)}\n",
    "        \n",
    "        x = torch.zeros(len(df), len(genres))\n",
    "        for i, genre in enumerate(cut.values):\n",
    "            x[i, genres_mapping[genre]] = 1\n",
    "        #print(torch.sum(torch.sum(x,dim=1)!=1))\n",
    "        return x\n",
    "\n",
    "class IndexEncoder(object):\n",
    "    def __init__(self):\n",
    "        return\n",
    "    \n",
    "    def __call__(self, df):\n",
    "        mapping = {index: i for i, index in enumerate(df.astype('int64').values)}\n",
    "        return mapping\n",
    "    \n",
    "class CategoryEncoder(object):\n",
    "    def __init__(self):\n",
    "        return\n",
    "        \n",
    "    def __call__(self, df):\n",
    "        genres = set(g for col in df.dropna().values for g in re.split('[^a-zA-Z0-9 ]', col))\n",
    "        genres.discard('')\n",
    "        genres_mapping = {genre: i for i, genre in enumerate(genres)}\n",
    "\n",
    "        x = torch.zeros(len(df), len(genres))\n",
    "        for i, col in enumerate(df.dropna().values):\n",
    "            for genre in re.split('[^a-zA-Z0-9 ]', col):\n",
    "                if genre == '':\n",
    "                    continue\n",
    "                x[i, genres_mapping[genre]] = 1\n",
    "        return x\n",
    "\n",
    "encoders = [NumericalEncoder(),LargeNumberEncoder(),BinEncoder(),IndexEncoder(),CategoryEncoder(),StringEncoder()]"
   ]
  },
  {
   "cell_type": "code",
   "execution_count": 160,
   "id": "34ff3410",
   "metadata": {},
   "outputs": [
    {
     "data": {
      "text/plain": [
       "array([0, 1, 1, ..., 1, 1, 1])"
      ]
     },
     "execution_count": 160,
     "metadata": {},
     "output_type": "execute_result"
    }
   ],
   "source": [
    "'''\n",
    "genres = set(g for col in vertex_data[\"countries\"].dropna().values for g in re.split('[^a-zA-Z0-9 ]', col))\n",
    "genres.discard('')\n",
    "genres.discard('')\n",
    "print(genres)\n",
    "'''\n",
    "#pd.qcut(vertex_data[\"imdbRating\"], 10).unique()\n",
    "vertex_data[\"imdbRating\"].isnull().astype(int).values"
   ]
  },
  {
   "cell_type": "code",
   "execution_count": 131,
   "id": "93bcd561",
   "metadata": {},
   "outputs": [
    {
     "data": {
      "text/plain": [
       "array([    0,     1,     2, ..., 33877, 33878, 33879], dtype=int64)"
      ]
     },
     "execution_count": 131,
     "metadata": {},
     "output_type": "execute_result"
    }
   ],
   "source": [
    "vertex_data[\"_id\"].astype('int64').values"
   ]
  },
  {
   "cell_type": "code",
   "execution_count": 165,
   "id": "9886c118",
   "metadata": {},
   "outputs": [
    {
     "data": {
      "application/vnd.jupyter.widget-view+json": {
       "model_id": "015501a248974cc7bed39021f04bf52f",
       "version_major": 2,
       "version_minor": 0
      },
      "text/plain": [
       "Batches:   0%|          | 0/617 [00:00<?, ?it/s]"
      ]
     },
     "metadata": {},
     "output_type": "display_data"
    },
    {
     "data": {
      "application/vnd.jupyter.widget-view+json": {
       "model_id": "ad94997aa0a04d0ea7e47ab095ba50f8",
       "version_major": 2,
       "version_minor": 0
      },
      "text/plain": [
       "Batches:   0%|          | 0/284 [00:00<?, ?it/s]"
      ]
     },
     "metadata": {},
     "output_type": "display_data"
    },
    {
     "data": {
      "application/vnd.jupyter.widget-view+json": {
       "model_id": "f73d071ff64247c9b5000502586e10e5",
       "version_major": 2,
       "version_minor": 0
      },
      "text/plain": [
       "Batches:   0%|          | 0/286 [00:00<?, ?it/s]"
      ]
     },
     "metadata": {},
     "output_type": "display_data"
    }
   ],
   "source": [
    "v_columns_info = {\"_id\": ColType.INDEX,\"_labels\":ColType.CATEGORY,\"budget\":ColType.LARGE_NUMBER,\"countries\":ColType.CATEGORY,\"imdbRating\":ColType.NUMERICAL,\"imdbVotes\":ColType.NUMBER_TO_BIN ,\"name\":ColType.STRING,\"plot\":ColType.STRING,\"revenue\":ColType.LARGE_NUMBER,\"runtime\":ColType.NUMBER_TO_BIN,\"title\":ColType.STRING,\"year\":ColType.NUMBER_TO_BIN}\n",
    "\n",
    "vertex_data=vertex_data[v_columns_info.keys()]\n",
    "v_features=[]\n",
    "for col in vertex_data.keys() :\n",
    "    if v_columns_info[col] == ColType.INDEX:\n",
    "        encoder = IndexEncoder()\n",
    "        mapping = encoder(vertex_data[col])\n",
    "    elif v_columns_info[col] == ColType.CATEGORY:\n",
    "        encoder = CategoryEncoder()\n",
    "        v_features.append(encoder(vertex_data[col]))\n",
    "    elif v_columns_info[col] == ColType.NUMERICAL:\n",
    "        encoder = NumericalEncoder()\n",
    "        v_features.append(encoder(vertex_data[col]))\n",
    "    elif v_columns_info[col] == ColType.LARGE_NUMBER:\n",
    "        encoder = LargeNumberEncoder()\n",
    "        v_features.append(encoder(vertex_data[col]))\n",
    "    elif v_columns_info[col] == ColType.NUMBER_TO_BIN:\n",
    "        encoder = BinEncoder()\n",
    "        v_features.append(encoder(vertex_data[col]))\n",
    "    elif v_columns_info[col] == ColType.STRING:\n",
    "        device = torch.device(\"cuda:0\" if torch.cuda.is_available() else \"cpu\")\n",
    "        encoder = StringEncoder(device=device)\n",
    "        tmp = encoder(vertex_data[col])\n",
    "        v_features.append(tmp)\n",
    "\n",
    "\n",
    "\n",
    "\n",
    "\n",
    "\n",
    "\n",
    "        \n",
    "        "
   ]
  },
  {
   "cell_type": "code",
   "execution_count": 169,
   "id": "a49070dc",
   "metadata": {},
   "outputs": [
    {
     "data": {
      "text/plain": [
       "tensor(-0.2967)"
      ]
     },
     "execution_count": 169,
     "metadata": {},
     "output_type": "execute_result"
    }
   ],
   "source": [
    "torch.min(tmp)"
   ]
  },
  {
   "cell_type": "code",
   "execution_count": 18,
   "id": "1c2a1a35",
   "metadata": {},
   "outputs": [
    {
     "data": {
      "text/plain": [
       "{}"
      ]
     },
     "execution_count": 18,
     "metadata": {},
     "output_type": "execute_result"
    }
   ],
   "source": [
    "\n",
    "class DataLib(object):\n",
    "    def __init__(self):\n",
    "        \n",
    "    def get_data_info(name):\n",
    "        if self.dataset_name == \"recommendation\":\n",
    "            return {}\n",
    "        else:\n",
    "            raise NotImplementedError\n"
   ]
  },
  {
   "cell_type": "code",
   "execution_count": null,
   "id": "a10f9b61",
   "metadata": {},
   "outputs": [],
   "source": []
  }
 ],
 "metadata": {
  "kernelspec": {
   "display_name": "Python 3",
   "language": "python",
   "name": "python3"
  },
  "language_info": {
   "codemirror_mode": {
    "name": "ipython",
    "version": 3
   },
   "file_extension": ".py",
   "mimetype": "text/x-python",
   "name": "python",
   "nbconvert_exporter": "python",
   "pygments_lexer": "ipython3",
   "version": "3.8.8"
  }
 },
 "nbformat": 4,
 "nbformat_minor": 5
}
